{
 "cells": [
  {
   "cell_type": "code",
   "execution_count": 1,
   "id": "6da67143-b735-4460-a1e1-2015c6d67e20",
   "metadata": {},
   "outputs": [
    {
     "data": {
      "text/html": [
       "<div>\n",
       "<style scoped>\n",
       "    .dataframe tbody tr th:only-of-type {\n",
       "        vertical-align: middle;\n",
       "    }\n",
       "\n",
       "    .dataframe tbody tr th {\n",
       "        vertical-align: top;\n",
       "    }\n",
       "\n",
       "    .dataframe thead th {\n",
       "        text-align: right;\n",
       "    }\n",
       "</style>\n",
       "<table border=\"1\" class=\"dataframe\">\n",
       "  <thead>\n",
       "    <tr style=\"text-align: right;\">\n",
       "      <th></th>\n",
       "      <th>customerID</th>\n",
       "      <th>gender</th>\n",
       "      <th>SeniorCitizen</th>\n",
       "      <th>Partner</th>\n",
       "      <th>Dependents</th>\n",
       "      <th>tenure</th>\n",
       "      <th>PhoneService</th>\n",
       "      <th>MultipleLines</th>\n",
       "      <th>InternetService</th>\n",
       "      <th>OnlineSecurity</th>\n",
       "      <th>...</th>\n",
       "      <th>DeviceProtection</th>\n",
       "      <th>TechSupport</th>\n",
       "      <th>StreamingTV</th>\n",
       "      <th>StreamingMovies</th>\n",
       "      <th>Contract</th>\n",
       "      <th>PaperlessBilling</th>\n",
       "      <th>PaymentMethod</th>\n",
       "      <th>MonthlyCharges</th>\n",
       "      <th>TotalCharges</th>\n",
       "      <th>Churn</th>\n",
       "    </tr>\n",
       "  </thead>\n",
       "  <tbody>\n",
       "    <tr>\n",
       "      <th>0</th>\n",
       "      <td>7590-VHVEG</td>\n",
       "      <td>Female</td>\n",
       "      <td>0</td>\n",
       "      <td>Yes</td>\n",
       "      <td>No</td>\n",
       "      <td>1</td>\n",
       "      <td>No</td>\n",
       "      <td>No phone service</td>\n",
       "      <td>DSL</td>\n",
       "      <td>No</td>\n",
       "      <td>...</td>\n",
       "      <td>No</td>\n",
       "      <td>No</td>\n",
       "      <td>No</td>\n",
       "      <td>No</td>\n",
       "      <td>Month-to-month</td>\n",
       "      <td>Yes</td>\n",
       "      <td>Electronic check</td>\n",
       "      <td>29.85</td>\n",
       "      <td>29.85</td>\n",
       "      <td>No</td>\n",
       "    </tr>\n",
       "    <tr>\n",
       "      <th>1</th>\n",
       "      <td>5575-GNVDE</td>\n",
       "      <td>Male</td>\n",
       "      <td>0</td>\n",
       "      <td>No</td>\n",
       "      <td>No</td>\n",
       "      <td>34</td>\n",
       "      <td>Yes</td>\n",
       "      <td>No</td>\n",
       "      <td>DSL</td>\n",
       "      <td>Yes</td>\n",
       "      <td>...</td>\n",
       "      <td>Yes</td>\n",
       "      <td>No</td>\n",
       "      <td>No</td>\n",
       "      <td>No</td>\n",
       "      <td>One year</td>\n",
       "      <td>No</td>\n",
       "      <td>Mailed check</td>\n",
       "      <td>56.95</td>\n",
       "      <td>1889.5</td>\n",
       "      <td>No</td>\n",
       "    </tr>\n",
       "    <tr>\n",
       "      <th>2</th>\n",
       "      <td>3668-QPYBK</td>\n",
       "      <td>Male</td>\n",
       "      <td>0</td>\n",
       "      <td>No</td>\n",
       "      <td>No</td>\n",
       "      <td>2</td>\n",
       "      <td>Yes</td>\n",
       "      <td>No</td>\n",
       "      <td>DSL</td>\n",
       "      <td>Yes</td>\n",
       "      <td>...</td>\n",
       "      <td>No</td>\n",
       "      <td>No</td>\n",
       "      <td>No</td>\n",
       "      <td>No</td>\n",
       "      <td>Month-to-month</td>\n",
       "      <td>Yes</td>\n",
       "      <td>Mailed check</td>\n",
       "      <td>53.85</td>\n",
       "      <td>108.15</td>\n",
       "      <td>Yes</td>\n",
       "    </tr>\n",
       "    <tr>\n",
       "      <th>3</th>\n",
       "      <td>7795-CFOCW</td>\n",
       "      <td>Male</td>\n",
       "      <td>0</td>\n",
       "      <td>No</td>\n",
       "      <td>No</td>\n",
       "      <td>45</td>\n",
       "      <td>No</td>\n",
       "      <td>No phone service</td>\n",
       "      <td>DSL</td>\n",
       "      <td>Yes</td>\n",
       "      <td>...</td>\n",
       "      <td>Yes</td>\n",
       "      <td>Yes</td>\n",
       "      <td>No</td>\n",
       "      <td>No</td>\n",
       "      <td>One year</td>\n",
       "      <td>No</td>\n",
       "      <td>Bank transfer (automatic)</td>\n",
       "      <td>42.30</td>\n",
       "      <td>1840.75</td>\n",
       "      <td>No</td>\n",
       "    </tr>\n",
       "    <tr>\n",
       "      <th>4</th>\n",
       "      <td>9237-HQITU</td>\n",
       "      <td>Female</td>\n",
       "      <td>0</td>\n",
       "      <td>No</td>\n",
       "      <td>No</td>\n",
       "      <td>2</td>\n",
       "      <td>Yes</td>\n",
       "      <td>No</td>\n",
       "      <td>Fiber optic</td>\n",
       "      <td>No</td>\n",
       "      <td>...</td>\n",
       "      <td>No</td>\n",
       "      <td>No</td>\n",
       "      <td>No</td>\n",
       "      <td>No</td>\n",
       "      <td>Month-to-month</td>\n",
       "      <td>Yes</td>\n",
       "      <td>Electronic check</td>\n",
       "      <td>70.70</td>\n",
       "      <td>151.65</td>\n",
       "      <td>Yes</td>\n",
       "    </tr>\n",
       "  </tbody>\n",
       "</table>\n",
       "<p>5 rows × 21 columns</p>\n",
       "</div>"
      ],
      "text/plain": [
       "   customerID  gender  SeniorCitizen Partner Dependents  tenure PhoneService  \\\n",
       "0  7590-VHVEG  Female              0     Yes         No       1           No   \n",
       "1  5575-GNVDE    Male              0      No         No      34          Yes   \n",
       "2  3668-QPYBK    Male              0      No         No       2          Yes   \n",
       "3  7795-CFOCW    Male              0      No         No      45           No   \n",
       "4  9237-HQITU  Female              0      No         No       2          Yes   \n",
       "\n",
       "      MultipleLines InternetService OnlineSecurity  ... DeviceProtection  \\\n",
       "0  No phone service             DSL             No  ...               No   \n",
       "1                No             DSL            Yes  ...              Yes   \n",
       "2                No             DSL            Yes  ...               No   \n",
       "3  No phone service             DSL            Yes  ...              Yes   \n",
       "4                No     Fiber optic             No  ...               No   \n",
       "\n",
       "  TechSupport StreamingTV StreamingMovies        Contract PaperlessBilling  \\\n",
       "0          No          No              No  Month-to-month              Yes   \n",
       "1          No          No              No        One year               No   \n",
       "2          No          No              No  Month-to-month              Yes   \n",
       "3         Yes          No              No        One year               No   \n",
       "4          No          No              No  Month-to-month              Yes   \n",
       "\n",
       "               PaymentMethod MonthlyCharges  TotalCharges Churn  \n",
       "0           Electronic check          29.85         29.85    No  \n",
       "1               Mailed check          56.95        1889.5    No  \n",
       "2               Mailed check          53.85        108.15   Yes  \n",
       "3  Bank transfer (automatic)          42.30       1840.75    No  \n",
       "4           Electronic check          70.70        151.65   Yes  \n",
       "\n",
       "[5 rows x 21 columns]"
      ]
     },
     "execution_count": 1,
     "metadata": {},
     "output_type": "execute_result"
    }
   ],
   "source": [
    "import pandas as pd\n",
    "\n",
    "df = pd.read_csv('WA_Fn-UseC_-Telco-Customer-Churn.csv')\n",
    "df.head()\n"
   ]
  },
  {
   "cell_type": "code",
   "execution_count": 2,
   "id": "3f515874-7f86-45e8-9391-ce434dde7f8e",
   "metadata": {},
   "outputs": [
    {
     "data": {
      "text/plain": [
       "(7043, 21)"
      ]
     },
     "execution_count": 2,
     "metadata": {},
     "output_type": "execute_result"
    }
   ],
   "source": [
    "df.shape"
   ]
  },
  {
   "cell_type": "code",
   "execution_count": 3,
   "id": "a7e004ff-30f2-4115-a38b-1549d9d730d5",
   "metadata": {},
   "outputs": [
    {
     "data": {
      "text/plain": [
       "customerID          0\n",
       "gender              0\n",
       "SeniorCitizen       0\n",
       "Partner             0\n",
       "Dependents          0\n",
       "tenure              0\n",
       "PhoneService        0\n",
       "MultipleLines       0\n",
       "InternetService     0\n",
       "OnlineSecurity      0\n",
       "OnlineBackup        0\n",
       "DeviceProtection    0\n",
       "TechSupport         0\n",
       "StreamingTV         0\n",
       "StreamingMovies     0\n",
       "Contract            0\n",
       "PaperlessBilling    0\n",
       "PaymentMethod       0\n",
       "MonthlyCharges      0\n",
       "TotalCharges        0\n",
       "Churn               0\n",
       "dtype: int64"
      ]
     },
     "execution_count": 3,
     "metadata": {},
     "output_type": "execute_result"
    }
   ],
   "source": [
    "df.isnull().sum()"
   ]
  },
  {
   "cell_type": "code",
   "execution_count": 4,
   "id": "344c5b3f-ee3b-4368-b485-47eaa1dd9956",
   "metadata": {},
   "outputs": [
    {
     "data": {
      "text/plain": [
       "customerID           object\n",
       "gender               object\n",
       "SeniorCitizen         int64\n",
       "Partner              object\n",
       "Dependents           object\n",
       "tenure                int64\n",
       "PhoneService         object\n",
       "MultipleLines        object\n",
       "InternetService      object\n",
       "OnlineSecurity       object\n",
       "OnlineBackup         object\n",
       "DeviceProtection     object\n",
       "TechSupport          object\n",
       "StreamingTV          object\n",
       "StreamingMovies      object\n",
       "Contract             object\n",
       "PaperlessBilling     object\n",
       "PaymentMethod        object\n",
       "MonthlyCharges      float64\n",
       "TotalCharges         object\n",
       "Churn                object\n",
       "dtype: object"
      ]
     },
     "execution_count": 4,
     "metadata": {},
     "output_type": "execute_result"
    }
   ],
   "source": [
    "df.dtypes"
   ]
  },
  {
   "cell_type": "code",
   "execution_count": 5,
   "id": "186cddf5-1a6b-4cff-8b80-797718a85fa8",
   "metadata": {},
   "outputs": [
    {
     "data": {
      "text/html": [
       "<div>\n",
       "<style scoped>\n",
       "    .dataframe tbody tr th:only-of-type {\n",
       "        vertical-align: middle;\n",
       "    }\n",
       "\n",
       "    .dataframe tbody tr th {\n",
       "        vertical-align: top;\n",
       "    }\n",
       "\n",
       "    .dataframe thead th {\n",
       "        text-align: right;\n",
       "    }\n",
       "</style>\n",
       "<table border=\"1\" class=\"dataframe\">\n",
       "  <thead>\n",
       "    <tr style=\"text-align: right;\">\n",
       "      <th></th>\n",
       "      <th>SeniorCitizen</th>\n",
       "      <th>tenure</th>\n",
       "      <th>MonthlyCharges</th>\n",
       "    </tr>\n",
       "  </thead>\n",
       "  <tbody>\n",
       "    <tr>\n",
       "      <th>count</th>\n",
       "      <td>7043.000000</td>\n",
       "      <td>7043.000000</td>\n",
       "      <td>7043.000000</td>\n",
       "    </tr>\n",
       "    <tr>\n",
       "      <th>mean</th>\n",
       "      <td>0.162147</td>\n",
       "      <td>32.371149</td>\n",
       "      <td>64.761692</td>\n",
       "    </tr>\n",
       "    <tr>\n",
       "      <th>std</th>\n",
       "      <td>0.368612</td>\n",
       "      <td>24.559481</td>\n",
       "      <td>30.090047</td>\n",
       "    </tr>\n",
       "    <tr>\n",
       "      <th>min</th>\n",
       "      <td>0.000000</td>\n",
       "      <td>0.000000</td>\n",
       "      <td>18.250000</td>\n",
       "    </tr>\n",
       "    <tr>\n",
       "      <th>25%</th>\n",
       "      <td>0.000000</td>\n",
       "      <td>9.000000</td>\n",
       "      <td>35.500000</td>\n",
       "    </tr>\n",
       "    <tr>\n",
       "      <th>50%</th>\n",
       "      <td>0.000000</td>\n",
       "      <td>29.000000</td>\n",
       "      <td>70.350000</td>\n",
       "    </tr>\n",
       "    <tr>\n",
       "      <th>75%</th>\n",
       "      <td>0.000000</td>\n",
       "      <td>55.000000</td>\n",
       "      <td>89.850000</td>\n",
       "    </tr>\n",
       "    <tr>\n",
       "      <th>max</th>\n",
       "      <td>1.000000</td>\n",
       "      <td>72.000000</td>\n",
       "      <td>118.750000</td>\n",
       "    </tr>\n",
       "  </tbody>\n",
       "</table>\n",
       "</div>"
      ],
      "text/plain": [
       "       SeniorCitizen       tenure  MonthlyCharges\n",
       "count    7043.000000  7043.000000     7043.000000\n",
       "mean        0.162147    32.371149       64.761692\n",
       "std         0.368612    24.559481       30.090047\n",
       "min         0.000000     0.000000       18.250000\n",
       "25%         0.000000     9.000000       35.500000\n",
       "50%         0.000000    29.000000       70.350000\n",
       "75%         0.000000    55.000000       89.850000\n",
       "max         1.000000    72.000000      118.750000"
      ]
     },
     "execution_count": 5,
     "metadata": {},
     "output_type": "execute_result"
    }
   ],
   "source": [
    "df.describe()"
   ]
  },
  {
   "cell_type": "code",
   "execution_count": 6,
   "id": "27b06307-5c5e-45c6-9123-dfc1eb0eae8c",
   "metadata": {},
   "outputs": [
    {
     "ename": "SyntaxError",
     "evalue": "EOL while scanning string literal (3832288115.py, line 2)",
     "output_type": "error",
     "traceback": [
      "\u001b[0;36m  Cell \u001b[0;32mIn[6], line 2\u001b[0;36m\u001b[0m\n\u001b[0;31m    It's important to identify missing data before analysis.\u001b[0m\n\u001b[0m                                                            ^\u001b[0m\n\u001b[0;31mSyntaxError\u001b[0m\u001b[0;31m:\u001b[0m EOL while scanning string literal\n"
     ]
    }
   ],
   "source": [
    "## Checking for missing values\n",
    "It's important to identify missing data before analysis.\n"
   ]
  },
  {
   "cell_type": "code",
   "execution_count": 1,
   "id": "ddf7d7a9-5c3e-45e7-9c1a-c601b625cdbf",
   "metadata": {},
   "outputs": [
    {
     "name": "stdout",
     "output_type": "stream",
     "text": [
      "Folder: /Users/manika/customer-churn-prediction\n",
      "total 3728\n",
      "drwxr-xr-x  11 manika  staff     352 Aug 14 12:23 \u001b[34m.\u001b[m\u001b[m\n",
      "drwxr-x---+ 29 manika  staff     928 Aug 14 12:59 \u001b[34m..\u001b[m\u001b[m\n",
      "-rw-r--r--@  1 manika  staff    6148 Jul 31 15:06 .DS_Store\n",
      "drwxr-xr-x  12 manika  staff     384 Jul 31 14:57 \u001b[34m.git\u001b[m\u001b[m\n",
      "-rw-r--r--@  1 manika  staff      48 Jul 31 12:34 .gitignore\n",
      "drwxr-xr-x   4 manika  staff     128 Aug  1 18:41 \u001b[34m.ipynb_checkpoints\u001b[m\u001b[m\n",
      "-rw-r--r--@  1 manika  staff  977501 Sep 27  2019 WA_Fn-UseC_-Telco-Customer-Churn.csv\n",
      "-rw-r--r--   1 manika  staff   15018 Aug 14 12:11 customer-churn-prediction.ipynb\n",
      "-rw-r--r--@  1 manika  staff   91782 Aug 14 12:23 telco_churn_analysis.ipynb\n",
      "-rw-r--r--   1 manika  staff  806711 Aug  1 18:56 telco_churn_cleaned.csv\n",
      "drwxr-xr-x   8 manika  staff     256 Jul 31 14:16 \u001b[34mvenv\u001b[m\u001b[m\n"
     ]
    }
   ],
   "source": [
    "import os, pathlib\n",
    "print(\"Folder:\", pathlib.Path('.').resolve())\n",
    "!ls -la\n"
   ]
  },
  {
   "cell_type": "code",
   "execution_count": 2,
   "id": "17fe6b87-56a0-4aa3-a8b7-6f62275d1ad4",
   "metadata": {},
   "outputs": [
    {
     "name": "stdout",
     "output_type": "stream",
     "text": [
      "Reinitialized existing Git repository in /Users/manika/customer-churn-prediction/.git/\n",
      "zsh:1: no such file or directory: your-username\n",
      "zsh:1: no such file or directory: your-username\n",
      "origin\thttps://github.com/manika045/customer-churn-prediction.git (fetch)\n",
      "origin\thttps://github.com/manika045/customer-churn-prediction.git (push)\n"
     ]
    }
   ],
   "source": [
    "!git init\n",
    "!git branch -M main\n",
    "!git remote set-url origin https://github.com/<your-username>/customer-churn-prediction.git 2>/dev/null || true\n",
    "!git remote add origin https://github.com/<your-username>/customer-churn-prediction.git 2>/dev/null || true\n",
    "!git remote -v"
   ]
  },
  {
   "cell_type": "code",
   "execution_count": 3,
   "id": "724f2dde-bec9-4085-9a4a-9529e3f61648",
   "metadata": {},
   "outputs": [
    {
     "name": "stdout",
     "output_type": "stream",
     "text": [
      "[main 775ed2a] Add .gitignore to exclude venv and checkpoints\n",
      " Committer: Dominykas Sivickis <manika@Mac.lan>\n",
      "Your name and email address were configured automatically based\n",
      "on your username and hostname. Please check that they are accurate.\n",
      "You can suppress this message by setting them explicitly:\n",
      "\n",
      "    git config --global user.name \"Your Name\"\n",
      "    git config --global user.email you@example.com\n",
      "\n",
      "After doing this, you may fix the identity used for this commit with:\n",
      "\n",
      "    git commit --amend --reset-author\n",
      "\n",
      " 1 file changed, 2 insertions(+), 2 deletions(-)\n"
     ]
    }
   ],
   "source": [
    "gitignore = \"\"\"venv/\n",
    ".ipynb_checkpoints/\n",
    "__pycache__/\n",
    ".DS_Store\n",
    "\"\"\"\n",
    "open(\".gitignore\",\"w\").write(gitignore)\n",
    "!git add .gitignore\n",
    "!git commit -m \"Add .gitignore to exclude venv and checkpoints\" 2>/dev/null || echo \"No changes for .gitignore commit\""
   ]
  },
  {
   "cell_type": "code",
   "execution_count": 4,
   "id": "f92b59ad-135e-44cb-b83b-339d6e60a8da",
   "metadata": {},
   "outputs": [
    {
     "name": "stdout",
     "output_type": "stream",
     "text": [
      "On branch main\n",
      "Your branch is ahead of 'origin/main' by 1 commit.\n",
      "  (use \"git push\" to publish your local commits)\n",
      "\n",
      "Changes to be committed:\n",
      "  (use \"git restore --staged <file>...\" to unstage)\n",
      "\t\u001b[32mmodified:   customer-churn-prediction.ipynb\u001b[m\n",
      "\t\u001b[32mnew file:   telco_churn_analysis.ipynb\u001b[m\n",
      "\t\u001b[32mnew file:   telco_churn_cleaned.csv\u001b[m\n",
      "\n",
      "[main ee47cae] Add notebooks and datasets\n",
      " Committer: Dominykas Sivickis <manika@Mac.lan>\n",
      "Your name and email address were configured automatically based\n",
      "on your username and hostname. Please check that they are accurate.\n",
      "You can suppress this message by setting them explicitly:\n",
      "\n",
      "    git config --global user.name \"Your Name\"\n",
      "    git config --global user.email you@example.com\n",
      "\n",
      "After doing this, you may fix the identity used for this commit with:\n",
      "\n",
      "    git commit --amend --reset-author\n",
      "\n",
      " 3 files changed, 9153 insertions(+), 12 deletions(-)\n",
      " create mode 100644 telco_churn_analysis.ipynb\n",
      " create mode 100644 telco_churn_cleaned.csv\n"
     ]
    }
   ],
   "source": [
    "!git add customer-churn-prediction.ipynb telco_churn_analysis.ipynb telco_churn_cleaned.csv WA_Fn-UseC_-Telco-Customer-Churn.csv 2>/dev/null || true\n",
    "# If the filenames differ, you can also just do:\n",
    "# !git add .\n",
    "\n",
    "!git status\n",
    "!git commit -m \"Add notebooks and datasets\" || echo \"Nothing to commit (maybe already committed)\""
   ]
  },
  {
   "cell_type": "code",
   "execution_count": null,
   "id": "90779b38-21ee-4847-81b8-3cebb8e1ba36",
   "metadata": {},
   "outputs": [
    {
     "name": "stdout",
     "output_type": "stream",
     "text": [
      "From https://github.com/manika045/customer-churn-prediction\n",
      " * branch            main       -> FETCH_HEAD\n",
      "Current branch main is up to date.\n",
      "Username for 'https://github.com': "
     ]
    }
   ],
   "source": [
    "!git pull --rebase origin main || true\n",
    "!git push -u origin main\n"
   ]
  },
  {
   "cell_type": "code",
   "execution_count": null,
   "id": "d62957df-5609-4ca7-b0b0-1950f0780c6a",
   "metadata": {},
   "outputs": [],
   "source": [
    "!git add .\n",
    "!git rebase --continue\n",
    "!git push"
   ]
  },
  {
   "cell_type": "code",
   "execution_count": null,
   "id": "1dfcd347-45a2-497e-b683-6e46e1d0a929",
   "metadata": {},
   "outputs": [],
   "source": [
    "import os, pathlib, sys, subprocess, textwrap\n",
    "print(\"Folder:\", pathlib.Path('.').resolve())\n",
    "print(\"\\n-- git version --\")\n",
    "!git --version\n",
    "\n",
    "print(\"\\n-- current branch --\")\n",
    "!git rev-parse --abbrev-ref HEAD 2>/dev/null || echo \"no branch\"\n",
    "\n",
    "print(\"\\n-- remotes --\")\n",
    "!git remote -v || echo \"no remote\"\n",
    "\n",
    "print(\"\\n-- config user --\")\n",
    "!git config user.name || echo \"no user.name set\"\n",
    "!git config user.email || echo \"no user.email set\"\n",
    "\n",
    "print(\"\\n-- status --\")\n",
    "!git status\n",
    "\n",
    "print(\"\\n-- recent commits (local) --\")\n",
    "!git log --oneline -n 5 || echo \"no commits yet\"\n",
    "\n",
    "print(\"\\n-- files here --\")\n",
    "!ls -la"
   ]
  },
  {
   "cell_type": "code",
   "execution_count": null,
   "id": "b5285644-120f-4b25-8784-51785c4c1600",
   "metadata": {},
   "outputs": [],
   "source": [
    "!git config user.name \"manika045\"\n",
    "!git config user.email \"dominykas.sivickis@gmail.com\"\n",
    "\n",
    "# show what is set\n",
    "!git config user.name\n",
    "!git config user.email"
   ]
  },
  {
   "cell_type": "code",
   "execution_count": null,
   "id": "6c9a80c9-44c0-41c5-a019-99492cff330b",
   "metadata": {},
   "outputs": [],
   "source": [
    "!git init\n",
    "!git branch -M main\n",
    "\n",
    "# Set/confirm the remote to YOUR repo\n",
    "!git remote set-url origin https://github.com/manika045/customer-churn-prediction.git 2>/dev/null || true\n",
    "!git remote add origin https://github.com/manika045/customer-churn-prediction.git 2>/dev/null || true\n",
    "\n",
    "# Verify\n",
    "!git remote -v\n",
    "!git rev-parse --abbrev-ref HEAD"
   ]
  },
  {
   "cell_type": "code",
   "execution_count": null,
   "id": "c74624e7-ca54-4807-a949-54cbf2bfadc9",
   "metadata": {},
   "outputs": [],
   "source": [
    "gitignore = \"\"\"venv/\n",
    ".ipynb_checkpoints/\n",
    "__pycache__/\n",
    ".DS_Store\n",
    "\"\"\"\n",
    "open(\".gitignore\",\"w\").write(gitignore)\n",
    "!git add .gitignore\n",
    "!git commit -m \"Add .gitignore to exclude venv and checkpoints\" 2>/dev/null || echo \"No change to .gitignore\""
   ]
  },
  {
   "cell_type": "code",
   "execution_count": null,
   "id": "3ed19a73-dc6d-4baa-9e3c-29d8ab19e94b",
   "metadata": {},
   "outputs": [],
   "source": [
    "!git add -A\n",
    "!git status\n",
    "!git commit -m \"Add/update analysis notebook and cleaned dataset\" || echo \"Nothing to commit (already up to date)\""
   ]
  },
  {
   "cell_type": "code",
   "execution_count": null,
   "id": "90f45ffc-f0cf-4aa1-b4c7-4dfa563fb019",
   "metadata": {},
   "outputs": [],
   "source": [
    "# Align with remote if it already has commits; otherwise this will no-op\n",
    "!git pull --rebase origin main || true\n",
    "\n",
    "# Push\n",
    "!git push -u origin main -v"
   ]
  },
  {
   "cell_type": "code",
   "execution_count": null,
   "id": "00eec39f-f6fa-4528-9451-26f0253e5717",
   "metadata": {},
   "outputs": [],
   "source": []
  }
 ],
 "metadata": {
  "kernelspec": {
   "display_name": "Python 3 (ipykernel)",
   "language": "python",
   "name": "python3"
  },
  "language_info": {
   "codemirror_mode": {
    "name": "ipython",
    "version": 3
   },
   "file_extension": ".py",
   "mimetype": "text/x-python",
   "name": "python",
   "nbconvert_exporter": "python",
   "pygments_lexer": "ipython3",
   "version": "3.9.6"
  }
 },
 "nbformat": 4,
 "nbformat_minor": 5
}
